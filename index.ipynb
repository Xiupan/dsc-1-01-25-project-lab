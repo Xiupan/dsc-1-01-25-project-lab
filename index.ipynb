{
 "cells": [
  {
   "cell_type": "markdown",
   "metadata": {},
   "source": [
    "# Project: Analyzing Macbeth"
   ]
  },
  {
   "cell_type": "markdown",
   "metadata": {},
   "source": [
    "## Introduction\n",
    "For our first day and first data science project, we're going to do some rudimentry analysis of Shakespeare's classic play: Macbeth! You will get practice working with lists, condtionals and dictionaries, visualizing data, and thinking analytically about data."
   ]
  },
  {
   "cell_type": "markdown",
   "metadata": {},
   "source": [
    "## Objectives\n",
    "You will be able to:\n",
    "* Show mastery of the content covered in this section"
   ]
  },
  {
   "cell_type": "markdown",
   "metadata": {},
   "source": [
    "### Getting the Data\n",
    "Here we start by importing a python package and using it to pull the transcript of Macbeth from the project Gutenberg website. We also preview a few details about what is now stored in the variable macbeth; it's a string with 119,846 characters, the first 500 of which are printed below. "
   ]
  },
  {
   "cell_type": "code",
   "execution_count": 45,
   "metadata": {},
   "outputs": [
    {
     "name": "stdout",
     "output_type": "stream",
     "text": [
      "<class 'str'>\n",
      "108533\n",
      " The Project Gutenberg s Etext of Shakespeare s First Folio The Tragedie of Macbeth This is our 3rd edition of most of these plays See the index Copyright laws are changing all over the world be sure to check the copyright laws for your country before posting these files Please take a look at the important information in this header We encourage you to keep this file on your own disk keeping an electronic path open for the next readers Do not remove this Welcome To The World of Free Plain Vanill\n"
     ]
    }
   ],
   "source": [
    "import requests\n",
    "import re\n",
    "macbeth = requests.get('http://www.gutenberg.org/cache/epub/2264/pg2264.txt').text\n",
    "\n",
    "# print(re.sub('[^A-Za-z0-9]+', '', macbeth))\n",
    "\n",
    "macbeth = re.sub('[^A-Za-z0-9]+', ' ', macbeth)\n",
    "\n",
    "print(type(macbeth))\n",
    "print(len(macbeth))\n",
    "print(macbeth[:500])"
   ]
  },
  {
   "cell_type": "markdown",
   "metadata": {},
   "source": [
    "### Your Task\n",
    "\n",
    "Your task is to create a bar graph of the 25 most common words in the Shakespeare's Macbeth.  \n",
    "\n",
    "\n",
    "A common python programming pattern to counting objects, produce histograms, or update statistics is to make calls to a dictionary as you iterate through a list. For example, given a list of words, you can create a dictionary to store counts and then iterate through the list of words, checking how many times each word has appeared using your dictionary, and updating the dictionary count now that you've seen that word again. The `dictionary.get()` method is very useful in doing this. Read the docstring for the dictionary.get() method and use it along with the pseudocode above to create a bar graph of the 25 most common words from the transcript of Macbeth which has been loaded into a variable 'Macbeth'. Be sure to include a title and appropriate labels for your graph."
   ]
  },
  {
   "cell_type": "code",
   "execution_count": 143,
   "metadata": {},
   "outputs": [
    {
     "data": {
      "image/png": "[encoded data removed]",
      "text/plain": [
       "<Figure size 1152x648 with 1 Axes>"
      ]
     },
     "metadata": {
      "needs_background": "light"
     },
     "output_type": "display_data"
    }
   ],
   "source": [
    "# Your code here\n",
    "import matplotlib.pyplot as plt\n",
    "\n",
    "macbeth_dict = {}\n",
    "macbeth_list = macbeth.split(' ') #list of each word\n",
    "macbeth_2 = []\n",
    "macbeth_3 = []\n",
    "\n",
    "# print(macbeth_list[0:50])\n",
    "\n",
    "for word in macbeth_list:\n",
    "    word = word.lower()\n",
    "    macbeth_2.append(''.join(e for e in word if e.isalpha()))\n",
    "\n",
    "macbeth_3 = list(filter(None, macbeth_2))\n",
    "\n",
    "macbeth_dict = macbeth_dict.fromkeys(set(macbeth_3), 0)\n",
    "\n",
    "for word in macbeth_list:\n",
    "    if macbeth_dict.get(word.lower(), None) != None:\n",
    "        macbeth_dict[word.lower()] += 1\n",
    "\n",
    "keys = []\n",
    "values = []\n",
    "    \n",
    "sorted_names = sorted(macbeth_dict, key=lambda x: macbeth_dict[x], reverse=True)\n",
    "for k in sorted_names:\n",
    "#     print(\"{} : {}\".format(k, macbeth_dict[k]))\n",
    "    keys.append(k)\n",
    "    values.append(macbeth_dict[k])\n",
    "    \n",
    "# print(keys[0:25])\n",
    "# print(values[0:25])\n",
    "\n",
    "x = keys[0:25]\n",
    "y = values[0:25]\n",
    "\n",
    "plt.figure(1, figsize=(16,9))\n",
    "\n",
    "plt.bar(x, y)\n",
    "\n",
    "plt.ylabel('Word Count')\n",
    "plt.xlabel('Word')\n",
    "plt.show()\n",
    "\n",
    "# Pseudo-code Outline\n",
    "# Split the transcript into words\n",
    "# Create a dictionary\n",
    "# Iterate through the text of Macbeth\n",
    "# Update word counts\n",
    "# Create Bar Graph\n",
    "# Include descriptive titles and labels"
   ]
  },
  {
   "cell_type": "markdown",
   "metadata": {},
   "source": [
    "### Level Up (Optional)\n",
    "This project should take you about an hour and a half to complete. If you're done much more quickly than that and are not behind in the course, feel free to deepen your knowledge by completing any or all of the following tasks until you run out of time:\n",
    "* Create a list of top characters by mentions of their names \n",
    "* Split the text by which character is talking\n",
    "* Create sub graphs of the most common words by character\n",
    "* Reduce the string to the text of the play itself. (Remove any initial notes, forward, introduction, appendix, etc.)\n",
    "* Come up with some other fun analyses of the text!"
   ]
  },
  {
   "cell_type": "markdown",
   "metadata": {},
   "source": [
    "## Summary\n",
    "Congratulations! You've got some extra practice combining various data types into useful programming patterns and done an intitial analysis of a classic text!"
   ]
  }
 ],
 "metadata": {
  "kernelspec": {
   "display_name": "learn-env",
   "language": "python",
   "name": "learn-env"
  },
  "language_info": {
   "codemirror_mode": {
    "name": "ipython",
    "version": 3
   },
   "file_extension": ".py",
   "mimetype": "text/x-python",
   "name": "python",
   "nbconvert_exporter": "python",
   "pygments_lexer": "ipython3",
   "version": "3.7.1"
  }
 },
 "nbformat": 4,
 "nbformat_minor": 2
}
